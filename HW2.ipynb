{
 "cells": [
  {
   "cell_type": "markdown",
   "metadata": {},
   "source": [
    "## HW2\n",
    "## Yarou Xu"
   ]
  },
  {
   "cell_type": "markdown",
   "metadata": {},
   "source": [
    "### 1. Autoencoder"
   ]
  },
  {
   "cell_type": "code",
   "execution_count": 1,
   "metadata": {},
   "outputs": [
    {
     "name": "stderr",
     "output_type": "stream",
     "text": [
      "C:\\Users\\47532\\Anaconda3\\lib\\site-packages\\h5py\\__init__.py:72: UserWarning: h5py is running against HDF5 1.10.2 when it was built against 1.10.3, this may cause problems\n",
      "  '{0}.{1}.{2}'.format(*version.hdf5_built_version_tuple)\n",
      "Using TensorFlow backend.\n"
     ]
    }
   ],
   "source": [
    "from keras.layers import Input, Conv2D, MaxPooling2D, UpSampling2D\n",
    "from keras.layers import Dense, Dropout, Activation, Flatten\n",
    "from keras.layers import SimpleRNN, LSTM, Embedding\n",
    "from keras.layers import Conv1D, MaxPooling1D\n",
    "from keras.models import Model, Sequential\n",
    "from keras.preprocessing import sequence\n",
    "from keras.datasets import fashion_mnist\n",
    "from keras.utils import np_utils\n",
    "from keras.applications import VGG19\n",
    "from keras.callbacks import EarlyStopping\n",
    "import numpy as np\n",
    "import matplotlib.pyplot as plt\n",
    "%matplotlib inline"
   ]
  },
  {
   "cell_type": "code",
   "execution_count": 2,
   "metadata": {},
   "outputs": [
    {
     "name": "stdout",
     "output_type": "stream",
     "text": [
      "(60000, 28, 28, 1)\n",
      "(10000, 28, 28, 1)\n",
      "(60000, 10)\n",
      "(10000, 10)\n"
     ]
    }
   ],
   "source": [
    "# Prepare dataset, split it into training and test set\n",
    "(X_train, y_train), (X_test, y_test) = fashion_mnist.load_data()\n",
    "X_train = X_train.reshape(X_train.shape[0], 28, 28,1).astype('float32') / 255\n",
    "X_test = X_test.reshape(X_test.shape[0], 28, 28,1).astype('float32') / 255\n",
    "Y_train = np_utils.to_categorical(y_train, 10)\n",
    "Y_test = np_utils.to_categorical(y_test, 10)\n",
    "\n",
    "print(X_train.shape)\n",
    "print(X_test.shape)\n",
    "print(Y_train.shape)\n",
    "print(Y_test.shape)"
   ]
  },
  {
   "cell_type": "code",
   "execution_count": 3,
   "metadata": {
    "collapsed": true
   },
   "outputs": [],
   "source": [
    "# Encoder\n",
    "input_img = Input(shape=(X_train.shape[1:]))\n",
    "x = Conv2D(filters = 32, kernel_size = (3,3),\n",
    "           activation='relu',padding='same')(input_img)\n",
    "x = MaxPooling2D(pool_size = (2,2), padding = 'same')(x)\n",
    "x = Conv2D(filters = 16, kernel_size = (3,3),\n",
    "           activation='relu',padding='same')(x)\n",
    "x = MaxPooling2D(pool_size = (2,2), padding = 'same')(x)\n",
    "x = Conv2D(filters = 8, kernel_size = (3,3),\n",
    "           activation='relu',padding='same')(x)\n",
    "encoded = MaxPooling2D(pool_size = (2,2), padding = 'same')(x)"
   ]
  },
  {
   "cell_type": "code",
   "execution_count": 7,
   "metadata": {
    "collapsed": true
   },
   "outputs": [],
   "source": [
    "# Decoder\n",
    "x = Conv2D(filters = 8, kernel_size = (3,3), \n",
    "           activation = 'relu', padding = 'same')(encoded)\n",
    "x = UpSampling2D((2,2))(x)\n",
    "x = Conv2D(filters = 16, kernel_size = (3,3), \n",
    "           activation = 'relu', padding = 'same')(x)\n",
    "x = UpSampling2D((2,2))(x)\n",
    "x = Conv2D(filters = 32, kernel_size = (3,3), \n",
    "           activation = 'relu')(x)\n",
    "x = UpSampling2D((2,2))(x)\n",
    "decoded = Conv2D(filters = 1, kernel_size = (3,3), \n",
    "                 activation = 'sigmoid', padding = 'same')(x)"
   ]
  },
  {
   "cell_type": "code",
   "execution_count": 8,
   "metadata": {
    "collapsed": true
   },
   "outputs": [],
   "source": [
    "# Autoencoder\n",
    "autoencoder = Model(input_img, decoded)\n",
    "autoencoder.compile(optimizer = 'adadelta', loss = 'binary_crossentropy')"
   ]
  },
  {
   "cell_type": "code",
   "execution_count": 9,
   "metadata": {},
   "outputs": [
    {
     "name": "stdout",
     "output_type": "stream",
     "text": [
      "Train on 60000 samples, validate on 10000 samples\n",
      "Epoch 1/20\n",
      "60000/60000 [==============================] - 154s 3ms/step - loss: 0.3653 - val_loss: 0.3323\n",
      "Epoch 2/20\n",
      "60000/60000 [==============================] - 158s 3ms/step - loss: 0.3224 - val_loss: 0.3159\n",
      "Epoch 3/20\n",
      "60000/60000 [==============================] - 158s 3ms/step - loss: 0.3121 - val_loss: 0.3133\n",
      "Epoch 4/20\n",
      "60000/60000 [==============================] - 159s 3ms/step - loss: 0.3066 - val_loss: 0.3082\n",
      "Epoch 5/20\n",
      "60000/60000 [==============================] - 158s 3ms/step - loss: 0.3026 - val_loss: 0.3006\n",
      "Epoch 6/20\n",
      "60000/60000 [==============================] - 159s 3ms/step - loss: 0.2993 - val_loss: 0.3000\n",
      "Epoch 7/20\n",
      "60000/60000 [==============================] - 159s 3ms/step - loss: 0.2973 - val_loss: 0.2996\n",
      "Epoch 8/20\n",
      "60000/60000 [==============================] - 159s 3ms/step - loss: 0.2956 - val_loss: 0.2971\n",
      "Epoch 9/20\n",
      "60000/60000 [==============================] - 161s 3ms/step - loss: 0.2940 - val_loss: 0.2924\n",
      "Epoch 10/20\n",
      "60000/60000 [==============================] - 160s 3ms/step - loss: 0.2926 - val_loss: 0.2954\n"
     ]
    },
    {
     "data": {
      "text/plain": [
       "<keras.callbacks.History at 0x2576c959c88>"
      ]
     },
     "execution_count": 9,
     "metadata": {},
     "output_type": "execute_result"
    }
   ],
   "source": [
    "# Use earlystopping to avoid over-fitting\n",
    "earlyStopping = EarlyStopping(monitor='val_loss',\n",
    "                              min_delta=0,\n",
    "                              patience=0,\n",
    "                              verbose=0, mode='auto')\n",
    "# Train on trainig set\n",
    "autoencoder.fit(X_train, X_train,\n",
    "                epochs=20,\n",
    "                batch_size=256,\n",
    "                callbacks=[earlyStopping],\n",
    "                shuffle=True,\n",
    "                validation_data=(X_test, X_test))\n"
   ]
  },
  {
   "cell_type": "code",
   "execution_count": 10,
   "metadata": {},
   "outputs": [
    {
     "data": {
      "image/png": "[encoded data removed]",
      "text/plain": [
       "<Figure size 1440x288 with 20 Axes>"
      ]
     },
     "metadata": {},
     "output_type": "display_data"
    }
   ],
   "source": [
    "# Perform on test set\n",
    "decoded_images = autoencoder.predict(X_test)\n",
    "n=10\n",
    "plt.figure(figsize=(20, 4))\n",
    "for i in range(n):\n",
    "    # Original image\n",
    "    ax = plt.subplot(2,n,i+1)\n",
    "    plt.imshow(X_test[i].reshape(28,28))\n",
    "    plt.axis(\"off\")\n",
    "    # Autoencoder image\n",
    "    ax = plt.subplot(2,n,i+n+1)\n",
    "    plt.imshow(decoded_images[i].reshape(28,28))\n",
    "    plt.axis(\"off\")"
   ]
  },
  {
   "cell_type": "markdown",
   "metadata": {},
   "source": [
    "## 2.  Image Classification\n",
    "### 2.1 Deep CNN"
   ]
  },
  {
   "cell_type": "code",
   "execution_count": 12,
   "metadata": {},
   "outputs": [
    {
     "name": "stdout",
     "output_type": "stream",
     "text": [
      "(None, 26, 26, 64)\n",
      "_________________________________________________________________\n",
      "Layer (type)                 Output Shape              Param #   \n",
      "=================================================================\n",
      "conv2d_14 (Conv2D)           (None, 26, 26, 64)        640       \n",
      "_________________________________________________________________\n",
      "max_pooling2d_6 (MaxPooling2 (None, 13, 13, 64)        0         \n",
      "_________________________________________________________________\n",
      "conv2d_15 (Conv2D)           (None, 6, 6, 32)          18464     \n",
      "_________________________________________________________________\n",
      "max_pooling2d_7 (MaxPooling2 (None, 3, 3, 32)          0         \n",
      "_________________________________________________________________\n",
      "flatten_2 (Flatten)          (None, 288)               0         \n",
      "_________________________________________________________________\n",
      "dense_3 (Dense)              (None, 32)                9248      \n",
      "_________________________________________________________________\n",
      "dropout_4 (Dropout)          (None, 32)                0         \n",
      "_________________________________________________________________\n",
      "dense_4 (Dense)              (None, 10)                330       \n",
      "=================================================================\n",
      "Total params: 28,682\n",
      "Trainable params: 28,682\n",
      "Non-trainable params: 0\n",
      "_________________________________________________________________\n",
      "None\n"
     ]
    }
   ],
   "source": [
    "# Build a deep CNN\n",
    "model = Sequential()\n",
    "model.add(Conv2D(filters = 64, kernel_size = (3,3),\n",
    "                activation = 'relu', strides = (1,1),\n",
    "                padding = 'valid',\n",
    "                input_shape = (X_train.shape[1:])))\n",
    "print(model.output_shape)\n",
    "model.add(MaxPooling2D(pool_size = (2,2)))\n",
    "model.add(Conv2D(filters = 32, kernel_size = (3,3),\n",
    "                activation = 'relu', strides = (2,2),\n",
    "                padding = 'valid'))\n",
    "model.add(MaxPooling2D(pool_size = (2,2)))\n",
    "model.add(Flatten())\n",
    "model.add(Dense(32, activation = 'relu'))\n",
    "model.add(Dropout(0.25))\n",
    "model.add(Dense(10, activation = 'softmax'))\n",
    "print(model.summary())"
   ]
  },
  {
   "cell_type": "markdown",
   "metadata": {},
   "source": [
    "#### This CNN contains 2 converlutional layers, 2 max pooling layers, 1 drop out layer, 1 flatten layer, and 2 dense layers. It's total 8 layrs. For the first converlutional layer, there are 64 kernels with kernel size 3 by 3, no padding, and the stride is 1 by 1. For the second converlutional layer, there are 32 kernels with kernel size 3 by 3, no padding, and the stride is 2 by 2. For both max pooling layers, the pooling size is 2 by 2."
   ]
  },
  {
   "cell_type": "code",
   "execution_count": 14,
   "metadata": {},
   "outputs": [
    {
     "name": "stdout",
     "output_type": "stream",
     "text": [
      "Epoch 1/20\n",
      "60000/60000 [==============================] - 33s 557us/step - loss: 0.3168 - acc: 0.8858\n",
      "Epoch 2/20\n",
      "60000/60000 [==============================] - 34s 573us/step - loss: 0.3050 - acc: 0.8901\n",
      "Epoch 3/20\n",
      "60000/60000 [==============================] - 35s 581us/step - loss: 0.2976 - acc: 0.8927\n",
      "Epoch 4/20\n",
      "60000/60000 [==============================] - 35s 585us/step - loss: 0.2919 - acc: 0.8957\n",
      "Epoch 5/20\n",
      "60000/60000 [==============================] - 35s 590us/step - loss: 0.2887 - acc: 0.8954\n",
      "Epoch 6/20\n",
      "60000/60000 [==============================] - 36s 594us/step - loss: 0.2791 - acc: 0.8991\n",
      "Epoch 7/20\n",
      "60000/60000 [==============================] - 36s 593us/step - loss: 0.2743 - acc: 0.8998\n",
      "Epoch 8/20\n",
      "60000/60000 [==============================] - 36s 595us/step - loss: 0.2690 - acc: 0.9010\n",
      "Epoch 9/20\n",
      "60000/60000 [==============================] - 36s 596us/step - loss: 0.2650 - acc: 0.9022\n",
      "Epoch 10/20\n",
      "60000/60000 [==============================] - 36s 597us/step - loss: 0.2604 - acc: 0.9057\n",
      "Epoch 11/20\n",
      "60000/60000 [==============================] - 36s 597us/step - loss: 0.2577 - acc: 0.9059\n",
      "Epoch 12/20\n",
      "60000/60000 [==============================] - 36s 601us/step - loss: 0.2523 - acc: 0.9067\n",
      "Epoch 13/20\n",
      "60000/60000 [==============================] - 36s 603us/step - loss: 0.2472 - acc: 0.9089\n",
      "Epoch 14/20\n",
      "60000/60000 [==============================] - 36s 599us/step - loss: 0.2474 - acc: 0.9101\n",
      "Epoch 15/20\n",
      "60000/60000 [==============================] - 36s 601us/step - loss: 0.2424 - acc: 0.9114\n",
      "Epoch 16/20\n",
      "60000/60000 [==============================] - 37s 611us/step - loss: 0.2394 - acc: 0.9108\n",
      "Epoch 17/20\n",
      "60000/60000 [==============================] - 36s 600us/step - loss: 0.2371 - acc: 0.9120\n",
      "Epoch 18/20\n",
      "60000/60000 [==============================] - 36s 603us/step - loss: 0.2324 - acc: 0.9131\n",
      "Epoch 19/20\n",
      "60000/60000 [==============================] - 36s 601us/step - loss: 0.2290 - acc: 0.9150\n",
      "Epoch 20/20\n",
      "60000/60000 [==============================] - 36s 602us/step - loss: 0.2274 - acc: 0.9147\n"
     ]
    },
    {
     "data": {
      "text/plain": [
       "<keras.callbacks.History at 0x2570ea51f28>"
      ]
     },
     "execution_count": 14,
     "metadata": {},
     "output_type": "execute_result"
    }
   ],
   "source": [
    "# Train on training data\n",
    "model.compile(loss = 'categorical_crossentropy',\n",
    "             optimizer = 'adam',\n",
    "             metrics = ['accuracy'])\n",
    "model.fit(X_train, Y_train,\n",
    "         epochs = 20,\n",
    "         batch_size = 128)\n"
   ]
  },
  {
   "cell_type": "markdown",
   "metadata": {},
   "source": [
    "#### For this deep CNN model, the classification accuracy on the training set is 0.9147."
   ]
  },
  {
   "cell_type": "code",
   "execution_count": 15,
   "metadata": {},
   "outputs": [
    {
     "name": "stdout",
     "output_type": "stream",
     "text": [
      "10000/10000 [==============================] - 2s 193us/step\n",
      "[0.2677203505754471, 0.9075]\n"
     ]
    }
   ],
   "source": [
    "# Evaluate the CNN on test set\n",
    "score = model.evaluate(X_test, Y_test, verbose = 1)\n",
    "print(score)"
   ]
  },
  {
   "cell_type": "markdown",
   "metadata": {},
   "source": [
    "#### The classification accuracy on the test set is 0.9075, which is a little bit lower than that of the training set. "
   ]
  },
  {
   "cell_type": "code",
   "execution_count": 16,
   "metadata": {},
   "outputs": [
    {
     "name": "stdout",
     "output_type": "stream",
     "text": [
      "1024/1024 [==============================] - 0s 274us/step\n"
     ]
    },
    {
     "data": {
      "text/html": [
       "<div>\n",
       "<style scoped>\n",
       "    .dataframe tbody tr th:only-of-type {\n",
       "        vertical-align: middle;\n",
       "    }\n",
       "\n",
       "    .dataframe tbody tr th {\n",
       "        vertical-align: top;\n",
       "    }\n",
       "\n",
       "    .dataframe thead th {\n",
       "        text-align: right;\n",
       "    }\n",
       "</style>\n",
       "<table border=\"1\" class=\"dataframe\">\n",
       "  <thead>\n",
       "    <tr style=\"text-align: right;\">\n",
       "      <th>True Class</th>\n",
       "      <th>0</th>\n",
       "      <th>1</th>\n",
       "      <th>2</th>\n",
       "      <th>3</th>\n",
       "      <th>4</th>\n",
       "      <th>5</th>\n",
       "      <th>6</th>\n",
       "      <th>7</th>\n",
       "      <th>8</th>\n",
       "      <th>9</th>\n",
       "    </tr>\n",
       "    <tr>\n",
       "      <th>Predicted Class</th>\n",
       "      <th></th>\n",
       "      <th></th>\n",
       "      <th></th>\n",
       "      <th></th>\n",
       "      <th></th>\n",
       "      <th></th>\n",
       "      <th></th>\n",
       "      <th></th>\n",
       "      <th></th>\n",
       "      <th></th>\n",
       "    </tr>\n",
       "  </thead>\n",
       "  <tbody>\n",
       "    <tr>\n",
       "      <th>0</th>\n",
       "      <td>94</td>\n",
       "      <td>0</td>\n",
       "      <td>4</td>\n",
       "      <td>5</td>\n",
       "      <td>0</td>\n",
       "      <td>0</td>\n",
       "      <td>8</td>\n",
       "      <td>0</td>\n",
       "      <td>0</td>\n",
       "      <td>0</td>\n",
       "    </tr>\n",
       "    <tr>\n",
       "      <th>1</th>\n",
       "      <td>0</td>\n",
       "      <td>105</td>\n",
       "      <td>0</td>\n",
       "      <td>1</td>\n",
       "      <td>0</td>\n",
       "      <td>0</td>\n",
       "      <td>0</td>\n",
       "      <td>0</td>\n",
       "      <td>0</td>\n",
       "      <td>0</td>\n",
       "    </tr>\n",
       "    <tr>\n",
       "      <th>2</th>\n",
       "      <td>3</td>\n",
       "      <td>0</td>\n",
       "      <td>99</td>\n",
       "      <td>0</td>\n",
       "      <td>6</td>\n",
       "      <td>0</td>\n",
       "      <td>6</td>\n",
       "      <td>0</td>\n",
       "      <td>0</td>\n",
       "      <td>0</td>\n",
       "    </tr>\n",
       "    <tr>\n",
       "      <th>3</th>\n",
       "      <td>2</td>\n",
       "      <td>1</td>\n",
       "      <td>0</td>\n",
       "      <td>82</td>\n",
       "      <td>3</td>\n",
       "      <td>0</td>\n",
       "      <td>2</td>\n",
       "      <td>0</td>\n",
       "      <td>0</td>\n",
       "      <td>0</td>\n",
       "    </tr>\n",
       "    <tr>\n",
       "      <th>4</th>\n",
       "      <td>0</td>\n",
       "      <td>0</td>\n",
       "      <td>4</td>\n",
       "      <td>2</td>\n",
       "      <td>100</td>\n",
       "      <td>0</td>\n",
       "      <td>5</td>\n",
       "      <td>0</td>\n",
       "      <td>0</td>\n",
       "      <td>0</td>\n",
       "    </tr>\n",
       "    <tr>\n",
       "      <th>5</th>\n",
       "      <td>0</td>\n",
       "      <td>0</td>\n",
       "      <td>0</td>\n",
       "      <td>0</td>\n",
       "      <td>0</td>\n",
       "      <td>87</td>\n",
       "      <td>0</td>\n",
       "      <td>1</td>\n",
       "      <td>1</td>\n",
       "      <td>1</td>\n",
       "    </tr>\n",
       "    <tr>\n",
       "      <th>6</th>\n",
       "      <td>8</td>\n",
       "      <td>0</td>\n",
       "      <td>7</td>\n",
       "      <td>4</td>\n",
       "      <td>5</td>\n",
       "      <td>0</td>\n",
       "      <td>78</td>\n",
       "      <td>0</td>\n",
       "      <td>1</td>\n",
       "      <td>0</td>\n",
       "    </tr>\n",
       "    <tr>\n",
       "      <th>7</th>\n",
       "      <td>0</td>\n",
       "      <td>0</td>\n",
       "      <td>0</td>\n",
       "      <td>0</td>\n",
       "      <td>0</td>\n",
       "      <td>3</td>\n",
       "      <td>0</td>\n",
       "      <td>96</td>\n",
       "      <td>0</td>\n",
       "      <td>4</td>\n",
       "    </tr>\n",
       "    <tr>\n",
       "      <th>8</th>\n",
       "      <td>2</td>\n",
       "      <td>0</td>\n",
       "      <td>0</td>\n",
       "      <td>2</td>\n",
       "      <td>1</td>\n",
       "      <td>0</td>\n",
       "      <td>0</td>\n",
       "      <td>0</td>\n",
       "      <td>96</td>\n",
       "      <td>0</td>\n",
       "    </tr>\n",
       "    <tr>\n",
       "      <th>9</th>\n",
       "      <td>0</td>\n",
       "      <td>0</td>\n",
       "      <td>0</td>\n",
       "      <td>0</td>\n",
       "      <td>0</td>\n",
       "      <td>1</td>\n",
       "      <td>0</td>\n",
       "      <td>0</td>\n",
       "      <td>0</td>\n",
       "      <td>94</td>\n",
       "    </tr>\n",
       "  </tbody>\n",
       "</table>\n",
       "</div>"
      ],
      "text/plain": [
       "True Class        0    1   2   3    4   5   6   7   8   9\n",
       "Predicted Class                                          \n",
       "0                94    0   4   5    0   0   8   0   0   0\n",
       "1                 0  105   0   1    0   0   0   0   0   0\n",
       "2                 3    0  99   0    6   0   6   0   0   0\n",
       "3                 2    1   0  82    3   0   2   0   0   0\n",
       "4                 0    0   4   2  100   0   5   0   0   0\n",
       "5                 0    0   0   0    0  87   0   1   1   1\n",
       "6                 8    0   7   4    5   0  78   0   1   0\n",
       "7                 0    0   0   0    0   3   0  96   0   4\n",
       "8                 2    0   0   2    1   0   0   0  96   0\n",
       "9                 0    0   0   0    0   1   0   0   0  94"
      ]
     },
     "execution_count": 16,
     "metadata": {},
     "output_type": "execute_result"
    }
   ],
   "source": [
    "# compute the cross table\n",
    "import pandas as pd\n",
    "pred_classes = model.predict_classes(X_test[:1024], \n",
    "                                          batch_size = 128,\n",
    "                                          verbose = 1)\n",
    "pd.crosstab(pred_classes, y_test[:1024],\n",
    "           rownames = ['Predicted Class'], colnames = ['True Class'])"
   ]
  },
  {
   "cell_type": "markdown",
   "metadata": {
    "collapsed": true
   },
   "source": [
    "### 2.2 Transfer Learning"
   ]
  },
  {
   "cell_type": "code",
   "execution_count": 17,
   "metadata": {},
   "outputs": [
    {
     "name": "stdout",
     "output_type": "stream",
     "text": [
      "(60000, 48, 48, 3)\n",
      "(10000, 48, 48, 3)\n",
      "(60000, 10)\n",
      "(10000, 10)\n"
     ]
    }
   ],
   "source": [
    "#from skimage.transform import resize\n",
    "import cv2\n",
    "# Prepare the train and test dataset for the pretrained VGG19 model\n",
    "(x_train_rgb, y_train_rgb), (x_test_rgb, y_test_rgb) = fashion_mnist.load_data()\n",
    "# convert the gray-scale dataset to RGB with size 48*48*3\n",
    "x_train_rgb = [cv2.cvtColor(cv2.resize(i, (48,48)), cv2.COLOR_GRAY2BGR) for i in x_train_rgb]\n",
    "x_train_rgb = np.concatenate([arr[np.newaxis] for arr in x_train_rgb]).astype('float32')/255\n",
    "\n",
    "x_test_rgb = [cv2.cvtColor(cv2.resize(i, (48,48)), cv2.COLOR_GRAY2BGR) for i in x_test_rgb]\n",
    "x_test_rgb = np.concatenate([arr[np.newaxis] for arr in x_test_rgb]).astype('float32')/255\n",
    "\n",
    "#X_train_r = resize(X_train_r, (X_train_r.shape[0],48,48))\n",
    "#X_test_r = resize(X_test_r, (X_test_r.shape[0],48,48))\n",
    "#X_train_r = X_train_r.reshape(X_train_r.shape[0], 48, 48, 1).astype('float32') / 255\n",
    "#X_test_r = X_test_r.reshape(X_test_r.shape[0], 48, 48, 1).astype('float32') / 255\n",
    "\n",
    "\n",
    "#X_train_r = np.concatenate((X_train_r, X_train_r, X_train_r), axis=3) \n",
    "#X_test_r = np.concatenate((X_test_r, X_test_r, X_test_r), axis=3) \n",
    "\n",
    "Y_train_rgb = np_utils.to_categorical(y_train_rgb, 10)\n",
    "Y_test_rgb = np_utils.to_categorical(y_test_rgb, 10)\n",
    "print(x_train_rgb.shape)\n",
    "print(x_test_rgb.shape)\n",
    "print(Y_train_rgb.shape)\n",
    "print(Y_test_rgb.shape)"
   ]
  },
  {
   "cell_type": "code",
   "execution_count": 18,
   "metadata": {
    "collapsed": true
   },
   "outputs": [],
   "source": [
    "conv_base = VGG19(weights='imagenet', include_top = False, input_shape=(x_train_rgb.shape[1:]))"
   ]
  },
  {
   "cell_type": "code",
   "execution_count": 19,
   "metadata": {},
   "outputs": [
    {
     "name": "stdout",
     "output_type": "stream",
     "text": [
      "_________________________________________________________________\n",
      "Layer (type)                 Output Shape              Param #   \n",
      "=================================================================\n",
      "vgg19 (Model)                (None, 1, 1, 512)         20024384  \n",
      "_________________________________________________________________\n",
      "flatten_3 (Flatten)          (None, 512)               0         \n",
      "_________________________________________________________________\n",
      "dense_5 (Dense)              (None, 256)               131328    \n",
      "_________________________________________________________________\n",
      "dropout_5 (Dropout)          (None, 256)               0         \n",
      "_________________________________________________________________\n",
      "dense_6 (Dense)              (None, 128)               32896     \n",
      "_________________________________________________________________\n",
      "dropout_6 (Dropout)          (None, 128)               0         \n",
      "_________________________________________________________________\n",
      "dense_7 (Dense)              (None, 10)                1290      \n",
      "=================================================================\n",
      "Total params: 20,189,898\n",
      "Trainable params: 20,189,898\n",
      "Non-trainable params: 0\n",
      "_________________________________________________________________\n"
     ]
    }
   ],
   "source": [
    "transfer_model = Sequential()\n",
    "transfer_model.add(conv_base)\n",
    "transfer_model.add(Flatten())\n",
    "transfer_model.add(Dense(256, activation = 'relu'))\n",
    "transfer_model.add(Dropout(0.25))\n",
    "transfer_model.add(Dense(128, activation = 'relu'))\n",
    "transfer_model.add(Dropout(0.25))\n",
    "transfer_model.add(Dense(10, activation = 'softmax'))\n",
    "transfer_model.summary()"
   ]
  },
  {
   "cell_type": "code",
   "execution_count": 20,
   "metadata": {},
   "outputs": [
    {
     "data": {
      "text/plain": [
       "[<tf.Variable 'block1_conv1/kernel:0' shape=(3, 3, 3, 64) dtype=float32_ref>,\n",
       " <tf.Variable 'block1_conv1/bias:0' shape=(64,) dtype=float32_ref>,\n",
       " <tf.Variable 'block1_conv2/kernel:0' shape=(3, 3, 64, 64) dtype=float32_ref>,\n",
       " <tf.Variable 'block1_conv2/bias:0' shape=(64,) dtype=float32_ref>,\n",
       " <tf.Variable 'block2_conv1/kernel:0' shape=(3, 3, 64, 128) dtype=float32_ref>,\n",
       " <tf.Variable 'block2_conv1/bias:0' shape=(128,) dtype=float32_ref>,\n",
       " <tf.Variable 'block2_conv2/kernel:0' shape=(3, 3, 128, 128) dtype=float32_ref>,\n",
       " <tf.Variable 'block2_conv2/bias:0' shape=(128,) dtype=float32_ref>,\n",
       " <tf.Variable 'block3_conv1/kernel:0' shape=(3, 3, 128, 256) dtype=float32_ref>,\n",
       " <tf.Variable 'block3_conv1/bias:0' shape=(256,) dtype=float32_ref>,\n",
       " <tf.Variable 'block3_conv2/kernel:0' shape=(3, 3, 256, 256) dtype=float32_ref>,\n",
       " <tf.Variable 'block3_conv2/bias:0' shape=(256,) dtype=float32_ref>,\n",
       " <tf.Variable 'block3_conv3/kernel:0' shape=(3, 3, 256, 256) dtype=float32_ref>,\n",
       " <tf.Variable 'block3_conv3/bias:0' shape=(256,) dtype=float32_ref>,\n",
       " <tf.Variable 'block3_conv4/kernel:0' shape=(3, 3, 256, 256) dtype=float32_ref>,\n",
       " <tf.Variable 'block3_conv4/bias:0' shape=(256,) dtype=float32_ref>,\n",
       " <tf.Variable 'block4_conv1/kernel:0' shape=(3, 3, 256, 512) dtype=float32_ref>,\n",
       " <tf.Variable 'block4_conv1/bias:0' shape=(512,) dtype=float32_ref>,\n",
       " <tf.Variable 'block4_conv2/kernel:0' shape=(3, 3, 512, 512) dtype=float32_ref>,\n",
       " <tf.Variable 'block4_conv2/bias:0' shape=(512,) dtype=float32_ref>,\n",
       " <tf.Variable 'block4_conv3/kernel:0' shape=(3, 3, 512, 512) dtype=float32_ref>,\n",
       " <tf.Variable 'block4_conv3/bias:0' shape=(512,) dtype=float32_ref>,\n",
       " <tf.Variable 'block4_conv4/kernel:0' shape=(3, 3, 512, 512) dtype=float32_ref>,\n",
       " <tf.Variable 'block4_conv4/bias:0' shape=(512,) dtype=float32_ref>,\n",
       " <tf.Variable 'block5_conv1/kernel:0' shape=(3, 3, 512, 512) dtype=float32_ref>,\n",
       " <tf.Variable 'block5_conv1/bias:0' shape=(512,) dtype=float32_ref>,\n",
       " <tf.Variable 'block5_conv2/kernel:0' shape=(3, 3, 512, 512) dtype=float32_ref>,\n",
       " <tf.Variable 'block5_conv2/bias:0' shape=(512,) dtype=float32_ref>,\n",
       " <tf.Variable 'block5_conv3/kernel:0' shape=(3, 3, 512, 512) dtype=float32_ref>,\n",
       " <tf.Variable 'block5_conv3/bias:0' shape=(512,) dtype=float32_ref>,\n",
       " <tf.Variable 'block5_conv4/kernel:0' shape=(3, 3, 512, 512) dtype=float32_ref>,\n",
       " <tf.Variable 'block5_conv4/bias:0' shape=(512,) dtype=float32_ref>,\n",
       " <tf.Variable 'dense_5/kernel:0' shape=(512, 256) dtype=float32_ref>,\n",
       " <tf.Variable 'dense_5/bias:0' shape=(256,) dtype=float32_ref>,\n",
       " <tf.Variable 'dense_6/kernel:0' shape=(256, 128) dtype=float32_ref>,\n",
       " <tf.Variable 'dense_6/bias:0' shape=(128,) dtype=float32_ref>,\n",
       " <tf.Variable 'dense_7/kernel:0' shape=(128, 10) dtype=float32_ref>,\n",
       " <tf.Variable 'dense_7/bias:0' shape=(10,) dtype=float32_ref>]"
      ]
     },
     "execution_count": 20,
     "metadata": {},
     "output_type": "execute_result"
    }
   ],
   "source": [
    "# Visualize all the weights in the VGG19 model\n",
    "transfer_model.trainable_weights"
   ]
  },
  {
   "cell_type": "code",
   "execution_count": 21,
   "metadata": {
    "collapsed": true
   },
   "outputs": [],
   "source": [
    "# Freeze all weights in VGG19 other than the final layer\n",
    "conv_base.trainable = False"
   ]
  },
  {
   "cell_type": "code",
   "execution_count": 22,
   "metadata": {
    "collapsed": true
   },
   "outputs": [],
   "source": [
    "transfer_model.compile(loss = 'categorical_crossentropy',\n",
    "             optimizer = 'adam',\n",
    "             metrics = ['accuracy'])"
   ]
  },
  {
   "cell_type": "code",
   "execution_count": 24,
   "metadata": {},
   "outputs": [
    {
     "name": "stdout",
     "output_type": "stream",
     "text": [
      "Epoch 1/20\n",
      "60000/60000 [==============================] - 1431s 24ms/step - loss: 0.5849 - acc: 0.7916\n",
      "Epoch 2/20\n",
      "60000/60000 [==============================] - 1422s 24ms/step - loss: 0.4610 - acc: 0.8349\n",
      "Epoch 3/20\n",
      "60000/60000 [==============================] - 1411s 24ms/step - loss: 0.4168 - acc: 0.8491\n",
      "Epoch 4/20\n",
      "60000/60000 [==============================] - 1409s 23ms/step - loss: 0.3898 - acc: 0.8599\n",
      "Epoch 5/20\n",
      "60000/60000 [==============================] - 1409s 23ms/step - loss: 0.3727 - acc: 0.8645\n",
      "Epoch 6/20\n",
      "60000/60000 [==============================] - 1409s 23ms/step - loss: 0.3539 - acc: 0.8712\n",
      "Epoch 7/20\n",
      "60000/60000 [==============================] - 1410s 24ms/step - loss: 0.3430 - acc: 0.8754\n",
      "Epoch 8/20\n",
      "60000/60000 [==============================] - 1410s 23ms/step - loss: 0.3338 - acc: 0.8783\n",
      "Epoch 9/20\n",
      "60000/60000 [==============================] - 1408s 23ms/step - loss: 0.3256 - acc: 0.8809\n",
      "Epoch 10/20\n",
      "60000/60000 [==============================] - 1412s 24ms/step - loss: 0.3181 - acc: 0.8835\n",
      "Epoch 11/20\n",
      "60000/60000 [==============================] - 1408s 23ms/step - loss: 0.3102 - acc: 0.8860\n",
      "Epoch 12/20\n",
      "60000/60000 [==============================] - 1409s 23ms/step - loss: 0.3040 - acc: 0.8880\n",
      "Epoch 13/20\n",
      "60000/60000 [==============================] - 1408s 23ms/step - loss: 0.2995 - acc: 0.8890\n",
      "Epoch 14/20\n",
      "60000/60000 [==============================] - 1408s 23ms/step - loss: 0.2928 - acc: 0.8919\n",
      "Epoch 15/20\n",
      "60000/60000 [==============================] - 1408s 23ms/step - loss: 0.2860 - acc: 0.8938\n",
      "Epoch 16/20\n",
      "60000/60000 [==============================] - 1407s 23ms/step - loss: 0.2815 - acc: 0.8963\n",
      "Epoch 17/20\n",
      "60000/60000 [==============================] - 1405s 23ms/step - loss: 0.2784 - acc: 0.8965\n",
      "Epoch 18/20\n",
      "60000/60000 [==============================] - 1406s 23ms/step - loss: 0.2717 - acc: 0.8975\n",
      "Epoch 19/20\n",
      "60000/60000 [==============================] - 1411s 24ms/step - loss: 0.2706 - acc: 0.9001\n",
      "Epoch 20/20\n",
      "60000/60000 [==============================] - 1418s 24ms/step - loss: 0.2665 - acc: 0.9009\n"
     ]
    },
    {
     "data": {
      "text/plain": [
       "<keras.callbacks.History at 0x25715b12b00>"
      ]
     },
     "execution_count": 24,
     "metadata": {},
     "output_type": "execute_result"
    }
   ],
   "source": [
    "transfer_model.fit(x_train_rgb, Y_train_rgb,\n",
    "         epochs = 20,\n",
    "         batch_size = 256)"
   ]
  },
  {
   "cell_type": "markdown",
   "metadata": {},
   "source": [
    "#### For this transfer learning model, the classification accuracy on training set is 0.9009."
   ]
  },
  {
   "cell_type": "code",
   "execution_count": 28,
   "metadata": {},
   "outputs": [
    {
     "name": "stdout",
     "output_type": "stream",
     "text": [
      "10000/10000 [==============================] - 222s 22ms/step\n",
      "[0.33561757991313934, 0.8785]\n"
     ]
    }
   ],
   "source": [
    "# #valuate the model on test set\n",
    "score = transfer_model.evaluate(x_test_rgb, Y_test_rgb, verbose = 1)\n",
    "print(score)"
   ]
  },
  {
   "cell_type": "markdown",
   "metadata": {},
   "source": [
    "#### The classification accuracy on test set is only 0.8785, which is much lower than that of the training set. This could be caused by overfitting."
   ]
  },
  {
   "cell_type": "code",
   "execution_count": 29,
   "metadata": {},
   "outputs": [
    {
     "name": "stdout",
     "output_type": "stream",
     "text": [
      "1024/1024 [==============================] - 21s 20ms/step\n"
     ]
    },
    {
     "data": {
      "text/html": [
       "<div>\n",
       "<style scoped>\n",
       "    .dataframe tbody tr th:only-of-type {\n",
       "        vertical-align: middle;\n",
       "    }\n",
       "\n",
       "    .dataframe tbody tr th {\n",
       "        vertical-align: top;\n",
       "    }\n",
       "\n",
       "    .dataframe thead th {\n",
       "        text-align: right;\n",
       "    }\n",
       "</style>\n",
       "<table border=\"1\" class=\"dataframe\">\n",
       "  <thead>\n",
       "    <tr style=\"text-align: right;\">\n",
       "      <th>True Class</th>\n",
       "      <th>0</th>\n",
       "      <th>1</th>\n",
       "      <th>2</th>\n",
       "      <th>3</th>\n",
       "      <th>4</th>\n",
       "      <th>5</th>\n",
       "      <th>6</th>\n",
       "      <th>7</th>\n",
       "      <th>8</th>\n",
       "      <th>9</th>\n",
       "    </tr>\n",
       "    <tr>\n",
       "      <th>Predicted Class</th>\n",
       "      <th></th>\n",
       "      <th></th>\n",
       "      <th></th>\n",
       "      <th></th>\n",
       "      <th></th>\n",
       "      <th></th>\n",
       "      <th></th>\n",
       "      <th></th>\n",
       "      <th></th>\n",
       "      <th></th>\n",
       "    </tr>\n",
       "  </thead>\n",
       "  <tbody>\n",
       "    <tr>\n",
       "      <th>0</th>\n",
       "      <td>98</td>\n",
       "      <td>0</td>\n",
       "      <td>2</td>\n",
       "      <td>4</td>\n",
       "      <td>0</td>\n",
       "      <td>0</td>\n",
       "      <td>8</td>\n",
       "      <td>0</td>\n",
       "      <td>0</td>\n",
       "      <td>0</td>\n",
       "    </tr>\n",
       "    <tr>\n",
       "      <th>1</th>\n",
       "      <td>0</td>\n",
       "      <td>104</td>\n",
       "      <td>0</td>\n",
       "      <td>3</td>\n",
       "      <td>0</td>\n",
       "      <td>0</td>\n",
       "      <td>0</td>\n",
       "      <td>0</td>\n",
       "      <td>0</td>\n",
       "      <td>0</td>\n",
       "    </tr>\n",
       "    <tr>\n",
       "      <th>2</th>\n",
       "      <td>2</td>\n",
       "      <td>0</td>\n",
       "      <td>94</td>\n",
       "      <td>1</td>\n",
       "      <td>6</td>\n",
       "      <td>0</td>\n",
       "      <td>5</td>\n",
       "      <td>0</td>\n",
       "      <td>0</td>\n",
       "      <td>0</td>\n",
       "    </tr>\n",
       "    <tr>\n",
       "      <th>3</th>\n",
       "      <td>1</td>\n",
       "      <td>2</td>\n",
       "      <td>2</td>\n",
       "      <td>80</td>\n",
       "      <td>7</td>\n",
       "      <td>0</td>\n",
       "      <td>5</td>\n",
       "      <td>0</td>\n",
       "      <td>1</td>\n",
       "      <td>0</td>\n",
       "    </tr>\n",
       "    <tr>\n",
       "      <th>4</th>\n",
       "      <td>2</td>\n",
       "      <td>0</td>\n",
       "      <td>11</td>\n",
       "      <td>4</td>\n",
       "      <td>97</td>\n",
       "      <td>0</td>\n",
       "      <td>16</td>\n",
       "      <td>0</td>\n",
       "      <td>1</td>\n",
       "      <td>0</td>\n",
       "    </tr>\n",
       "    <tr>\n",
       "      <th>5</th>\n",
       "      <td>0</td>\n",
       "      <td>0</td>\n",
       "      <td>0</td>\n",
       "      <td>0</td>\n",
       "      <td>0</td>\n",
       "      <td>87</td>\n",
       "      <td>0</td>\n",
       "      <td>3</td>\n",
       "      <td>0</td>\n",
       "      <td>1</td>\n",
       "    </tr>\n",
       "    <tr>\n",
       "      <th>6</th>\n",
       "      <td>5</td>\n",
       "      <td>0</td>\n",
       "      <td>5</td>\n",
       "      <td>4</td>\n",
       "      <td>5</td>\n",
       "      <td>0</td>\n",
       "      <td>65</td>\n",
       "      <td>0</td>\n",
       "      <td>0</td>\n",
       "      <td>0</td>\n",
       "    </tr>\n",
       "    <tr>\n",
       "      <th>7</th>\n",
       "      <td>0</td>\n",
       "      <td>0</td>\n",
       "      <td>0</td>\n",
       "      <td>0</td>\n",
       "      <td>0</td>\n",
       "      <td>4</td>\n",
       "      <td>0</td>\n",
       "      <td>91</td>\n",
       "      <td>0</td>\n",
       "      <td>4</td>\n",
       "    </tr>\n",
       "    <tr>\n",
       "      <th>8</th>\n",
       "      <td>1</td>\n",
       "      <td>0</td>\n",
       "      <td>0</td>\n",
       "      <td>0</td>\n",
       "      <td>0</td>\n",
       "      <td>0</td>\n",
       "      <td>0</td>\n",
       "      <td>0</td>\n",
       "      <td>95</td>\n",
       "      <td>0</td>\n",
       "    </tr>\n",
       "    <tr>\n",
       "      <th>9</th>\n",
       "      <td>0</td>\n",
       "      <td>0</td>\n",
       "      <td>0</td>\n",
       "      <td>0</td>\n",
       "      <td>0</td>\n",
       "      <td>0</td>\n",
       "      <td>0</td>\n",
       "      <td>3</td>\n",
       "      <td>1</td>\n",
       "      <td>94</td>\n",
       "    </tr>\n",
       "  </tbody>\n",
       "</table>\n",
       "</div>"
      ],
      "text/plain": [
       "True Class        0    1   2   3   4   5   6   7   8   9\n",
       "Predicted Class                                         \n",
       "0                98    0   2   4   0   0   8   0   0   0\n",
       "1                 0  104   0   3   0   0   0   0   0   0\n",
       "2                 2    0  94   1   6   0   5   0   0   0\n",
       "3                 1    2   2  80   7   0   5   0   1   0\n",
       "4                 2    0  11   4  97   0  16   0   1   0\n",
       "5                 0    0   0   0   0  87   0   3   0   1\n",
       "6                 5    0   5   4   5   0  65   0   0   0\n",
       "7                 0    0   0   0   0   4   0  91   0   4\n",
       "8                 1    0   0   0   0   0   0   0  95   0\n",
       "9                 0    0   0   0   0   0   0   3   1  94"
      ]
     },
     "execution_count": 29,
     "metadata": {},
     "output_type": "execute_result"
    }
   ],
   "source": [
    "# compute the cross table\n",
    "import pandas as pd\n",
    "pred_classes = transfer_model.predict_classes(x_test_rgb[:1024], \n",
    "                                          batch_size = 128,\n",
    "                                          verbose = 1)\n",
    "pd.crosstab(pred_classes, y_test_rgb[:1024],\n",
    "           rownames = ['Predicted Class'], colnames = ['True Class'])"
   ]
  },
  {
   "cell_type": "markdown",
   "metadata": {},
   "source": [
    "## 3. Text Classification"
   ]
  },
  {
   "cell_type": "code",
   "execution_count": 30,
   "metadata": {},
   "outputs": [
    {
     "name": "stdout",
     "output_type": "stream",
     "text": [
      "66056\n",
      "1295\n",
      "(53880,)\n",
      "(13471,)\n"
     ]
    }
   ],
   "source": [
    "import pandas as pd\n",
    "from sklearn.model_selection import train_test_split\n",
    "\n",
    "# Read in the data \n",
    "benign = pd.read_csv('https://s3.amazonaws.com/anly-590/url-classification/benign-urls.txt')\n",
    "malicious = pd.read_csv('https://s3.amazonaws.com/anly-590/url-classification/malicious-urls.txt')\n",
    "benign['class'] = [1]*len(benign)\n",
    "malicious['class'] = [0]*len(malicious)\n",
    "print(len(benign))\n",
    "print(len(malicious))\n",
    "# Split it into train and test dataset\n",
    "X_train_b, X_test_b, Y_train_b, Y_test_b = train_test_split(benign.iloc[:,0], benign['class'], test_size=0.2)\n",
    "X_train_m, X_test_m, Y_train_m, Y_test_m = train_test_split(malicious.iloc[:,0], malicious['class'], test_size=0.2)\n",
    "X_train = pd.concat([X_train_b,X_train_m]).reset_index(drop=True)\n",
    "Y_train = pd.concat([Y_train_b,Y_train_m]).reset_index(drop=True)\n",
    "X_test = pd.concat([X_test_b,X_test_m]).reset_index(drop=True)\n",
    "Y_test = pd.concat([Y_test_b, Y_test_m]).reset_index(drop=True)\n",
    "\n",
    "# Shuffle the index \n",
    "idx1 = np.random.permutation(X_train.index)\n",
    "X_train = X_train.reindex(idx1, axis = 0)\n",
    "Y_train = np.array(Y_train.reindex(idx1, axis = 0))\n",
    "idx2 = np.random.permutation(X_test.index)\n",
    "X_test = X_test.reindex(idx2, axis = 0)\n",
    "Y_test = np.array(Y_test.reindex(idx2, axis = 0))\n",
    "\n",
    "print(X_train.shape)\n",
    "print(X_test.shape)"
   ]
  },
  {
   "cell_type": "code",
   "execution_count": 31,
   "metadata": {},
   "outputs": [
    {
     "name": "stdout",
     "output_type": "stream",
     "text": [
      "69\n",
      "86\n"
     ]
    }
   ],
   "source": [
    "# Calculate the number of characters\n",
    "chars = []\n",
    "maxlen = 0\n",
    "for i in range(len(X_train)):\n",
    "    maxlen = max(maxlen,len(X_train.iloc[i]))\n",
    "    for char in X_train.iloc[i]:\n",
    "        if char not in chars:\n",
    "            chars.append(char)\n",
    "for i in range(len(X_test)):\n",
    "    maxlen = max(maxlen,len(X_test.iloc[i]))\n",
    "    for char in X_test.iloc[i]:\n",
    "        if char not in chars:\n",
    "            chars.append(char)            \n",
    "\n",
    "max_features = len(chars)\n",
    "print(max_features)\n",
    "print(maxlen)"
   ]
  },
  {
   "cell_type": "code",
   "execution_count": 33,
   "metadata": {},
   "outputs": [
    {
     "name": "stdout",
     "output_type": "stream",
     "text": [
      "The length of the training input is :\n",
      "53880\n",
      "One sample of the training input is :\n",
      "[1, 2, 3, 4, 3, 1, 4, 3, 5, 1, 6, 7, 8, 9, 10, 11, 10, 12, 4, 1, 8, 10, 6]\n",
      "The length of the test input is :\n",
      "13471\n"
     ]
    }
   ],
   "source": [
    "# Word to id\n",
    "word2id = {}\n",
    "for i in range(max_features):\n",
    "    word2id[chars[i]] = i+1\n",
    "input_train = []\n",
    "for i in range(len(X_train)):\n",
    "    input_sent = []\n",
    "    for char in X_train.iloc[i]:\n",
    "        input_sent.append(word2id.get(char))\n",
    "    input_train.append(input_sent)\n",
    "# Compute the training input length\n",
    "print(\"The length of the training input is :\")\n",
    "print(input_train.__len__())\n",
    "\n",
    "print(\"One sample of the training input is :\")\n",
    "print(input_train[0])\n",
    "\n",
    "input_test = []\n",
    "for i in range(len(X_test)):\n",
    "    input_sent = []\n",
    "    for char in X_test.iloc[i]:\n",
    "        input_sent.append(word2id.get(char))\n",
    "    input_test.append(input_sent)\n",
    "# Compute the test input length\n",
    "print(\"The length of the test input is :\")\n",
    "print(input_test.__len__())"
   ]
  },
  {
   "cell_type": "code",
   "execution_count": 34,
   "metadata": {},
   "outputs": [
    {
     "name": "stdout",
     "output_type": "stream",
     "text": [
      "(53880, 86)\n",
      "[ 0  0  0  0  0  0  0  0  0  0  0  0  0  0  0  0  0  0  0  0  0  0  0  0\n",
      "  0  0  0  0  0  0  0  0  0  0  0  0  0  0  0  0  0  0  0  0  0  0  0  0\n",
      "  0  0  0  0  0  0  0  0  0  0  0  0  0  0  0  1  2  3  4  3  1  4  3  5\n",
      "  1  6  7  8  9 10 11 10 12  4  1  8 10  6]\n",
      "(13471, 86)\n"
     ]
    }
   ],
   "source": [
    "# padding the input sentences so that they have same length\n",
    "input_train = sequence.pad_sequences(input_train, maxlen)\n",
    "input_test = sequence.pad_sequences(input_test, maxlen)\n",
    "\n",
    "# Compute the training input shape\n",
    "print(input_train.shape)\n",
    "\n",
    "# Print ont sample of the training input after padding\n",
    "print(input_train[0])\n",
    "\n",
    "# Compute the test input shape\n",
    "print(input_test.shape)"
   ]
  },
  {
   "cell_type": "code",
   "execution_count": 36,
   "metadata": {},
   "outputs": [
    {
     "name": "stdout",
     "output_type": "stream",
     "text": [
      "_________________________________________________________________\n",
      "Layer (type)                 Output Shape              Param #   \n",
      "=================================================================\n",
      "embedding_2 (Embedding)      (None, None, 64)          4480      \n",
      "_________________________________________________________________\n",
      "lstm_3 (LSTM)                (None, None, 32)          12416     \n",
      "_________________________________________________________________\n",
      "lstm_4 (LSTM)                (None, 16)                3136      \n",
      "_________________________________________________________________\n",
      "dense_9 (Dense)              (None, 1)                 17        \n",
      "=================================================================\n",
      "Total params: 20,049\n",
      "Trainable params: 20,049\n",
      "Non-trainable params: 0\n",
      "_________________________________________________________________\n"
     ]
    }
   ],
   "source": [
    "# Geerate a two-layers lstm model\n",
    "lstm = Sequential()\n",
    "lstm.add(Embedding(max_features+1,64))\n",
    "lstm.add(LSTM(32,return_sequences=True))\n",
    "lstm.add(LSTM(16))\n",
    "lstm.add(Dense(1,activation = 'sigmoid'))\n",
    "lstm.summary()"
   ]
  },
  {
   "cell_type": "code",
   "execution_count": 37,
   "metadata": {},
   "outputs": [
    {
     "name": "stdout",
     "output_type": "stream",
     "text": [
      "Epoch 1/15\n",
      "53880/53880 [==============================] - 30s 558us/step - loss: 0.0839 - acc: 0.98060s - loss: 0.0855 \n",
      "Epoch 2/15\n",
      "53880/53880 [==============================] - 29s 534us/step - loss: 0.0287 - acc: 0.9865\n",
      "Epoch 3/15\n",
      "53880/53880 [==============================] - 30s 550us/step - loss: 0.0250 - acc: 0.9883\n",
      "Epoch 4/15\n",
      "53880/53880 [==============================] - 30s 556us/step - loss: 0.0229 - acc: 0.9887\n",
      "Epoch 5/15\n",
      "53880/53880 [==============================] - 31s 567us/step - loss: 0.0219 - acc: 0.9894\n",
      "Epoch 6/15\n",
      "53880/53880 [==============================] - 31s 574us/step - loss: 0.0213 - acc: 0.9895\n",
      "Epoch 7/15\n",
      "53880/53880 [==============================] - 31s 580us/step - loss: 0.0206 - acc: 0.9902\n",
      "Epoch 8/15\n",
      "53880/53880 [==============================] - 31s 578us/step - loss: 0.0202 - acc: 0.9902\n",
      "Epoch 9/15\n",
      "53880/53880 [==============================] - 32s 588us/step - loss: 0.0197 - acc: 0.9908\n",
      "Epoch 10/15\n",
      "53880/53880 [==============================] - 32s 587us/step - loss: 0.0197 - acc: 0.9903\n",
      "Epoch 11/15\n",
      "53880/53880 [==============================] - 32s 596us/step - loss: 0.0187 - acc: 0.9909\n",
      "Epoch 12/15\n",
      "53880/53880 [==============================] - 32s 590us/step - loss: 0.0187 - acc: 0.9908\n",
      "Epoch 13/15\n",
      "53880/53880 [==============================] - 32s 592us/step - loss: 0.0184 - acc: 0.9910\n",
      "Epoch 14/15\n",
      "53880/53880 [==============================] - 32s 593us/step - loss: 0.0184 - acc: 0.9910\n",
      "Epoch 15/15\n",
      "53880/53880 [==============================] - 32s 601us/step - loss: 0.0179 - acc: 0.9917\n"
     ]
    },
    {
     "data": {
      "text/plain": [
       "<keras.callbacks.History at 0x25712413cc0>"
      ]
     },
     "execution_count": 37,
     "metadata": {},
     "output_type": "execute_result"
    }
   ],
   "source": [
    "lstm.compile(optimizer = 'rmsprop', \n",
    "             loss = 'binary_crossentropy', \n",
    "             metrics = ['acc'])\n",
    "lstm.fit(input_train,Y_train, epochs = 15, batch_size = 128)"
   ]
  },
  {
   "cell_type": "markdown",
   "metadata": {},
   "source": [
    "#### For this LSTM model, the classification accuracy on the training set is 0.9917."
   ]
  },
  {
   "cell_type": "code",
   "execution_count": 38,
   "metadata": {},
   "outputs": [
    {
     "name": "stdout",
     "output_type": "stream",
     "text": [
      "13471/13471 [==============================] - 4s 320us/step\n",
      "[0.023134635685953506, 0.9883453344220919]\n"
     ]
    }
   ],
   "source": [
    "# Evaluage the model on the test set\n",
    "score = lstm.evaluate(input_test, Y_test, verbose = 1)\n",
    "print(score)"
   ]
  },
  {
   "cell_type": "markdown",
   "metadata": {},
   "source": [
    "#### The classication accuracy on the test set is 0.9883."
   ]
  },
  {
   "cell_type": "markdown",
   "metadata": {},
   "source": [
    "### 3.2. CNN"
   ]
  },
  {
   "cell_type": "code",
   "execution_count": 44,
   "metadata": {},
   "outputs": [
    {
     "name": "stdout",
     "output_type": "stream",
     "text": [
      "_________________________________________________________________\n",
      "Layer (type)                 Output Shape              Param #   \n",
      "=================================================================\n",
      "embedding_4 (Embedding)      (None, 86, 64)            4480      \n",
      "_________________________________________________________________\n",
      "conv1d_2 (Conv1D)            (None, 82, 128)           41088     \n",
      "_________________________________________________________________\n",
      "dropout_8 (Dropout)          (None, 82, 128)           0         \n",
      "_________________________________________________________________\n",
      "max_pooling1d_2 (MaxPooling1 (None, 20, 128)           0         \n",
      "_________________________________________________________________\n",
      "flatten_5 (Flatten)          (None, 2560)              0         \n",
      "_________________________________________________________________\n",
      "dense_12 (Dense)             (None, 64)                163904    \n",
      "_________________________________________________________________\n",
      "dense_13 (Dense)             (None, 32)                2080      \n",
      "_________________________________________________________________\n",
      "dense_14 (Dense)             (None, 1)                 33        \n",
      "=================================================================\n",
      "Total params: 211,585\n",
      "Trainable params: 211,585\n",
      "Non-trainable params: 0\n",
      "_________________________________________________________________\n"
     ]
    }
   ],
   "source": [
    "# Generate a CNN model\n",
    "cnn = Sequential()\n",
    "cnn.add(Embedding(max_features+1, 64, input_length = maxlen))\n",
    "cnn.add(Conv1D(filters = 128, kernel_size = 5, activation = 'relu'))\n",
    "cnn.add(Dropout(0.25))\n",
    "cnn.add(MaxPooling1D(pool_size = 4))\n",
    "cnn.add(Flatten())\n",
    "cnn.add(Dense(64, activation = 'relu'))\n",
    "cnn.add(Dense(32, activation = 'relu'))\n",
    "cnn.add(Dense(1, activation = 'sigmoid'))\n",
    "cnn.summary()"
   ]
  },
  {
   "cell_type": "code",
   "execution_count": 45,
   "metadata": {},
   "outputs": [
    {
     "name": "stdout",
     "output_type": "stream",
     "text": [
      "Train on 43104 samples, validate on 10776 samples\n",
      "Epoch 1/15\n",
      "43104/43104 [==============================] - 24s 559us/step - loss: 0.0633 - acc: 0.9795 - val_loss: 0.0271 - val_acc: 0.9874\n",
      "Epoch 2/15\n",
      "43104/43104 [==============================] - 24s 550us/step - loss: 0.0236 - acc: 0.9892 - val_loss: 0.0345 - val_acc: 0.9849\n",
      "Epoch 3/15\n",
      "43104/43104 [==============================] - 24s 547us/step - loss: 0.0195 - acc: 0.9912 - val_loss: 0.0223 - val_acc: 0.9891\n",
      "Epoch 4/15\n",
      "43104/43104 [==============================] - 24s 555us/step - loss: 0.0178 - acc: 0.9919 - val_loss: 0.0282 - val_acc: 0.9879\n",
      "Epoch 5/15\n",
      "43104/43104 [==============================] - 24s 563us/step - loss: 0.0159 - acc: 0.9928 - val_loss: 0.0292 - val_acc: 0.9890\n",
      "Epoch 6/15\n",
      "43104/43104 [==============================] - 25s 570us/step - loss: 0.0145 - acc: 0.9936 - val_loss: 0.0324 - val_acc: 0.9889\n",
      "Epoch 7/15\n",
      "43104/43104 [==============================] - 25s 584us/step - loss: 0.0134 - acc: 0.9941 - val_loss: 0.0259 - val_acc: 0.9902\n",
      "Epoch 8/15\n",
      "43104/43104 [==============================] - 28s 653us/step - loss: 0.0123 - acc: 0.9953 - val_loss: 0.0312 - val_acc: 0.9893\n",
      "Epoch 9/15\n",
      "43104/43104 [==============================] - 28s 639us/step - loss: 0.0103 - acc: 0.9953 - val_loss: 0.0309 - val_acc: 0.9905\n",
      "Epoch 10/15\n",
      "43104/43104 [==============================] - 26s 601us/step - loss: 0.0101 - acc: 0.9959 - val_loss: 0.0353 - val_acc: 0.9894\n",
      "Epoch 11/15\n",
      "43104/43104 [==============================] - 27s 622us/step - loss: 0.0082 - acc: 0.9967 - val_loss: 0.0305 - val_acc: 0.9907\n",
      "Epoch 12/15\n",
      "43104/43104 [==============================] - 26s 611us/step - loss: 0.0075 - acc: 0.9971 - val_loss: 0.0438 - val_acc: 0.9898\n",
      "Epoch 13/15\n",
      "43104/43104 [==============================] - 26s 609us/step - loss: 0.0073 - acc: 0.9977 - val_loss: 0.0346 - val_acc: 0.9905\n",
      "Epoch 14/15\n",
      "43104/43104 [==============================] - 25s 589us/step - loss: 0.0055 - acc: 0.9979 - val_loss: 0.0468 - val_acc: 0.9901\n",
      "Epoch 15/15\n",
      "43104/43104 [==============================] - 26s 597us/step - loss: 0.0054 - acc: 0.9981 - val_loss: 0.0609 - val_acc: 0.9882\n"
     ]
    },
    {
     "data": {
      "text/plain": [
       "<keras.callbacks.History at 0x25702ddfcf8>"
      ]
     },
     "execution_count": 45,
     "metadata": {},
     "output_type": "execute_result"
    }
   ],
   "source": [
    "# Train on training set\n",
    "cnn.compile(optimizer = 'rmsprop', \n",
    "             loss = 'binary_crossentropy', \n",
    "             metrics = ['acc'])\n",
    "cnn.fit(input_train,Y_train, epochs = 15, validation_split = 0.2, batch_size = 128)"
   ]
  },
  {
   "cell_type": "markdown",
   "metadata": {},
   "source": [
    "#### For this CNN model, the classification accuracy on training set is 0.9981."
   ]
  },
  {
   "cell_type": "code",
   "execution_count": 47,
   "metadata": {},
   "outputs": [
    {
     "name": "stdout",
     "output_type": "stream",
     "text": [
      "13471/13471 [==============================] - 2s 161us/step\n",
      "[0.04072437338001954, 0.9908692747383268]\n"
     ]
    }
   ],
   "source": [
    "# Evaluate the model on test set\n",
    "score = cnn.evaluate(input_test, Y_test, verbose = 1)\n",
    "print(score)"
   ]
  },
  {
   "cell_type": "markdown",
   "metadata": {},
   "source": [
    "#### The classification accuracy on test set is 0.9909."
   ]
  },
  {
   "cell_type": "markdown",
   "metadata": {},
   "source": [
    "### 3.3. Compare two methods with ROC curves"
   ]
  },
  {
   "cell_type": "code",
   "execution_count": 49,
   "metadata": {},
   "outputs": [
    {
     "name": "stdout",
     "output_type": "stream",
     "text": [
      "13471/13471 [==============================] - 2s 165us/step\n",
      "13471/13471 [==============================] - 2s 147us/step\n"
     ]
    }
   ],
   "source": [
    "lstm_pred_class = lstm.predict_classes(input_test, \n",
    "                                          batch_size = 128,\n",
    "                                          verbose = 1)\n",
    "cnn_pred_class = cnn.predict_classes(input_test, \n",
    "                                          batch_size = 128,\n",
    "                                          verbose = 1)"
   ]
  },
  {
   "cell_type": "code",
   "execution_count": 50,
   "metadata": {},
   "outputs": [
    {
     "data": {
      "text/plain": [
       "<matplotlib.legend.Legend at 0x257034a7b38>"
      ]
     },
     "execution_count": 50,
     "metadata": {},
     "output_type": "execute_result"
    },
    {
     "data": {
      "image/png": "[encoded data removed]",
      "text/plain": [
       "<Figure size 432x288 with 1 Axes>"
      ]
     },
     "metadata": {},
     "output_type": "display_data"
    }
   ],
   "source": [
    "# Compare two models with their ROC curves and AUC\n",
    "from sklearn import metrics\n",
    "lstm_fpr, lstm_tpr, lstm_ = metrics.roc_curve(Y_test, lstm_pred_class)\n",
    "lstm_auc = metrics.roc_auc_score(Y_test, lstm_pred_class)\n",
    "cnn_fpr, cnn_tpr, cnn_ = metrics.roc_curve(Y_test, cnn_pred_class)\n",
    "cnn_auc = metrics.roc_auc_score(Y_test, cnn_pred_class)\n",
    "plt.plot(lstm_fpr, lstm_tpr, label = 'LSTM, AUC=' + str(lstm_auc))\n",
    "plt.plot(cnn_fpr, cnn_tpr, label = 'CNN, AUC=' + str(cnn_auc))\n",
    "plt.legend(loc = 4)"
   ]
  },
  {
   "cell_type": "markdown",
   "metadata": {},
   "source": [
    "#### From above analysis we know that the benign and malicious data size is very unbalanced. Although the classification accuracy scores for both LSTM and CNN model are high, the AUC of CNN model is not as good as its accuracy, which means that many malicious links are classified as benign. \n",
    "\n",
    "#### Next we will retrain these two model on justified dataset with balanced size for both classes."
   ]
  },
  {
   "cell_type": "code",
   "execution_count": 51,
   "metadata": {},
   "outputs": [
    {
     "name": "stdout",
     "output_type": "stream",
     "text": [
      "(5036,)\n",
      "(1259,)\n"
     ]
    }
   ],
   "source": [
    "# Sample from the benign data so that it has similar size of data with the malicious one\n",
    "benign1 = benign.sample(n=5000)\n",
    "X_train_b, X_test_b, Y_train_b, Y_test_b = train_test_split(benign1.iloc[:,0], benign1['class'], test_size=0.2)\n",
    "X_train_m, X_test_m, Y_train_m, Y_test_m = train_test_split(malicious.iloc[:,0], malicious['class'], test_size=0.2)\n",
    "X_train = pd.concat([X_train_b,X_train_m]).reset_index(drop=True)\n",
    "Y_train = pd.concat([Y_train_b,Y_train_m]).reset_index(drop=True)\n",
    "X_test = pd.concat([X_test_b,X_test_m]).reset_index(drop=True)\n",
    "Y_test = pd.concat([Y_test_b, Y_test_m]).reset_index(drop=True)\n",
    "\n",
    "# Shuffle the index \n",
    "idx1 = np.random.permutation(X_train.index)\n",
    "X_train = X_train.reindex(idx1, axis = 0)\n",
    "Y_train = np.array(Y_train.reindex(idx1, axis = 0))\n",
    "idx2 = np.random.permutation(X_test.index)\n",
    "X_test = X_test.reindex(idx2, axis = 0)\n",
    "Y_test = np.array(Y_test.reindex(idx2, axis = 0))\n",
    "\n",
    "print(X_train.shape)\n",
    "print(X_test.shape)\n",
    "#df = pd.DataFrame(np.random.randn(50, 4), columns=list('ABCD'))"
   ]
  },
  {
   "cell_type": "code",
   "execution_count": 52,
   "metadata": {},
   "outputs": [
    {
     "name": "stdout",
     "output_type": "stream",
     "text": [
      "5036\n",
      "[1, 9, 23, 18, 18, 18, 11, 32, 18, 10, 5, 14, 15, 11, 32, 15, 11, 1, 5, 10, 10, 5, 33, 15, 31, 7, 2, 15, 10, 1, 8, 10, 6]\n",
      "1259\n"
     ]
    }
   ],
   "source": [
    "input_train = []\n",
    "for i in range(len(X_train)):\n",
    "    input_sent = []\n",
    "    for char in X_train.iloc[i]:\n",
    "        input_sent.append(word2id.get(char))\n",
    "    input_train.append(input_sent)\n",
    "print(input_train.__len__())\n",
    "print(input_train[0])\n",
    "input_test = []\n",
    "for i in range(len(X_test)):\n",
    "    input_sent = []\n",
    "    for char in X_test.iloc[i]:\n",
    "        input_sent.append(word2id.get(char))\n",
    "    input_test.append(input_sent)\n",
    "print(input_test.__len__())"
   ]
  },
  {
   "cell_type": "code",
   "execution_count": 53,
   "metadata": {},
   "outputs": [
    {
     "name": "stdout",
     "output_type": "stream",
     "text": [
      "(5036, 86)\n",
      "[ 0  0  0  0  0  0  0  0  0  0  0  0  0  0  0  0  0  0  0  0  0  0  0  0\n",
      "  0  0  0  0  0  0  0  0  0  0  0  0  0  0  0  0  0  0  0  0  0  0  0  0\n",
      "  0  0  0  0  0  1  9 23 18 18 18 11 32 18 10  5 14 15 11 32 15 11  1  5\n",
      " 10 10  5 33 15 31  7  2 15 10  1  8 10  6]\n",
      "(1259, 86)\n"
     ]
    }
   ],
   "source": [
    "# padding the input sentences so that they have same length\n",
    "input_train = sequence.pad_sequences(input_train, maxlen)\n",
    "input_test = sequence.pad_sequences(input_test, maxlen)\n",
    "print(input_train.shape)\n",
    "print(input_train[0])\n",
    "print(input_test.shape)"
   ]
  },
  {
   "cell_type": "code",
   "execution_count": 54,
   "metadata": {},
   "outputs": [
    {
     "name": "stdout",
     "output_type": "stream",
     "text": [
      "Epoch 1/15\n",
      "5036/5036 [==============================] - 3s 580us/step - loss: 0.0521 - acc: 0.9877\n",
      "Epoch 2/15\n",
      "5036/5036 [==============================] - 3s 572us/step - loss: 0.0446 - acc: 0.9891\n",
      "Epoch 3/15\n",
      "5036/5036 [==============================] - 3s 575us/step - loss: 0.0408 - acc: 0.9891\n",
      "Epoch 4/15\n",
      "5036/5036 [==============================] - 3s 574us/step - loss: 0.0403 - acc: 0.9893\n",
      "Epoch 5/15\n",
      "5036/5036 [==============================] - 3s 583us/step - loss: 0.0397 - acc: 0.9905\n",
      "Epoch 6/15\n",
      "5036/5036 [==============================] - 3s 576us/step - loss: 0.0385 - acc: 0.9899\n",
      "Epoch 7/15\n",
      "5036/5036 [==============================] - 3s 678us/step - loss: 0.0380 - acc: 0.9905\n",
      "Epoch 8/15\n",
      "5036/5036 [==============================] - 3s 654us/step - loss: 0.0369 - acc: 0.9899\n",
      "Epoch 9/15\n",
      "5036/5036 [==============================] - 3s 628us/step - loss: 0.0371 - acc: 0.9901\n",
      "Epoch 10/15\n",
      "5036/5036 [==============================] - 3s 597us/step - loss: 0.0374 - acc: 0.9897\n",
      "Epoch 11/15\n",
      "5036/5036 [==============================] - 3s 615us/step - loss: 0.0355 - acc: 0.9907\n",
      "Epoch 12/15\n",
      "5036/5036 [==============================] - 3s 658us/step - loss: 0.0344 - acc: 0.9907\n",
      "Epoch 13/15\n",
      "5036/5036 [==============================] - 3s 689us/step - loss: 0.0338 - acc: 0.9909\n",
      "Epoch 14/15\n",
      "5036/5036 [==============================] - 3s 621us/step - loss: 0.0355 - acc: 0.9903\n",
      "Epoch 15/15\n",
      "5036/5036 [==============================] - 3s 584us/step - loss: 0.0306 - acc: 0.9913\n"
     ]
    },
    {
     "data": {
      "text/plain": [
       "<keras.callbacks.History at 0x25702e598d0>"
      ]
     },
     "execution_count": 54,
     "metadata": {},
     "output_type": "execute_result"
    }
   ],
   "source": [
    "lstm.fit(input_train,Y_train, epochs = 15, batch_size = 128)"
   ]
  },
  {
   "cell_type": "markdown",
   "metadata": {},
   "source": [
    "#### After adjusting the data size, the classification accuracy of LSTM model on training set is 0.9913."
   ]
  },
  {
   "cell_type": "code",
   "execution_count": 55,
   "metadata": {},
   "outputs": [
    {
     "name": "stdout",
     "output_type": "stream",
     "text": [
      "1259/1259 [==============================] - 0s 326us/step\n",
      "[0.08463339158717574, 0.9793486894360603]\n"
     ]
    }
   ],
   "source": [
    "# Evaluage the model on the test set\n",
    "score = lstm.evaluate(input_test, Y_test, verbose = 1)\n",
    "print(score)"
   ]
  },
  {
   "cell_type": "markdown",
   "metadata": {},
   "source": [
    "#### The accuracy score for the test set is 0.9793."
   ]
  },
  {
   "cell_type": "code",
   "execution_count": 57,
   "metadata": {},
   "outputs": [
    {
     "name": "stdout",
     "output_type": "stream",
     "text": [
      "Train on 4028 samples, validate on 1008 samples\n",
      "Epoch 1/15\n",
      "4028/4028 [==============================] - 2s 545us/step - loss: 0.0084 - acc: 0.9980 - val_loss: 0.0374 - val_acc: 0.9931\n",
      "Epoch 2/15\n",
      "4028/4028 [==============================] - 2s 540us/step - loss: 0.0062 - acc: 0.9995 - val_loss: 0.0449 - val_acc: 0.9931\n",
      "Epoch 3/15\n",
      "4028/4028 [==============================] - 2s 547us/step - loss: 0.0107 - acc: 0.9973 - val_loss: 0.0455 - val_acc: 0.9901\n",
      "Epoch 4/15\n",
      "4028/4028 [==============================] - 2s 541us/step - loss: 0.0057 - acc: 0.9993 - val_loss: 0.0517 - val_acc: 0.9891\n",
      "Epoch 5/15\n",
      "4028/4028 [==============================] - 2s 548us/step - loss: 0.0072 - acc: 0.9983 - val_loss: 0.0467 - val_acc: 0.9921\n",
      "Epoch 6/15\n",
      "4028/4028 [==============================] - 2s 554us/step - loss: 0.0063 - acc: 0.9993 - val_loss: 0.0470 - val_acc: 0.9931\n",
      "Epoch 7/15\n",
      "4028/4028 [==============================] - 2s 556us/step - loss: 0.0057 - acc: 0.9993 - val_loss: 0.0511 - val_acc: 0.9921\n",
      "Epoch 8/15\n",
      "4028/4028 [==============================] - 2s 552us/step - loss: 0.0061 - acc: 0.9993 - val_loss: 0.0529 - val_acc: 0.9891\n",
      "Epoch 9/15\n",
      "4028/4028 [==============================] - 2s 553us/step - loss: 0.0057 - acc: 0.9990 - val_loss: 0.0501 - val_acc: 0.9911\n",
      "Epoch 10/15\n",
      "4028/4028 [==============================] - 2s 553us/step - loss: 0.0046 - acc: 0.9995 - val_loss: 0.0514 - val_acc: 0.9931\n",
      "Epoch 11/15\n",
      "4028/4028 [==============================] - 2s 575us/step - loss: 0.0051 - acc: 0.9993 - val_loss: 0.0557 - val_acc: 0.9921\n",
      "Epoch 12/15\n",
      "4028/4028 [==============================] - 2s 543us/step - loss: 0.0043 - acc: 0.9998 - val_loss: 0.0584 - val_acc: 0.9921\n",
      "Epoch 13/15\n",
      "4028/4028 [==============================] - 2s 568us/step - loss: 0.0057 - acc: 0.9988 - val_loss: 0.0611 - val_acc: 0.9921\n",
      "Epoch 14/15\n",
      "4028/4028 [==============================] - 2s 557us/step - loss: 0.0040 - acc: 0.9998 - val_loss: 0.0648 - val_acc: 0.9921\n",
      "Epoch 15/15\n",
      "4028/4028 [==============================] - 2s 591us/step - loss: 0.0056 - acc: 0.9990 - val_loss: 0.0572 - val_acc: 0.9921\n"
     ]
    },
    {
     "data": {
      "text/plain": [
       "<keras.callbacks.History at 0x257034d32b0>"
      ]
     },
     "execution_count": 57,
     "metadata": {},
     "output_type": "execute_result"
    }
   ],
   "source": [
    "cnn.fit(input_train,Y_train, epochs = 15, validation_split = 0.2, batch_size = 128)"
   ]
  },
  {
   "cell_type": "markdown",
   "metadata": {},
   "source": [
    "#### The classification accuracy of CNN model on training set is 0.9990."
   ]
  },
  {
   "cell_type": "code",
   "execution_count": 58,
   "metadata": {},
   "outputs": [
    {
     "name": "stdout",
     "output_type": "stream",
     "text": [
      "1259/1259 [==============================] - 0s 187us/step\n",
      "[0.1260983126964396, 0.9817315329626688]\n"
     ]
    }
   ],
   "source": [
    "# Evaluate the model on test set\n",
    "score = cnn.evaluate(input_test, Y_test, verbose = 1)\n",
    "print(score)"
   ]
  },
  {
   "cell_type": "markdown",
   "metadata": {},
   "source": [
    "#### The classification accuracy of CNN model on test set is 0.9817."
   ]
  },
  {
   "cell_type": "code",
   "execution_count": 59,
   "metadata": {},
   "outputs": [
    {
     "name": "stdout",
     "output_type": "stream",
     "text": [
      "1259/1259 [==============================] - 0s 198us/step\n",
      "1259/1259 [==============================] - 0s 136us/step\n"
     ]
    }
   ],
   "source": [
    "# Predict the class for test inputs\n",
    "lstm_pred_class = lstm.predict_classes(input_test, \n",
    "                                          batch_size = 128,\n",
    "                                          verbose = 1)\n",
    "# Predict the class for test inputs\n",
    "cnn_pred_class = cnn.predict_classes(input_test, \n",
    "                                          batch_size = 128,\n",
    "                                          verbose = 1)"
   ]
  },
  {
   "cell_type": "code",
   "execution_count": 60,
   "metadata": {},
   "outputs": [
    {
     "data": {
      "text/plain": [
       "<matplotlib.legend.Legend at 0x2570352f6d8>"
      ]
     },
     "execution_count": 60,
     "metadata": {},
     "output_type": "execute_result"
    },
    {
     "data": {
      "image/png": "[encoded data removed]",
      "text/plain": [
       "<Figure size 432x288 with 1 Axes>"
      ]
     },
     "metadata": {},
     "output_type": "display_data"
    }
   ],
   "source": [
    "# Compare two models with their ROC curves and AUC\n",
    "from sklearn import metrics\n",
    "lstm_fpr, lstm_tpr, lstm_ = metrics.roc_curve(Y_test, lstm_pred_class)\n",
    "lstm_auc = metrics.roc_auc_score(Y_test, lstm_pred_class)\n",
    "cnn_fpr, cnn_tpr, cnn_ = metrics.roc_curve(Y_test, cnn_pred_class)\n",
    "cnn_auc = metrics.roc_auc_score(Y_test, cnn_pred_class)\n",
    "plt.plot(lstm_fpr, lstm_tpr, label = 'LSTM, AUC=' + str(lstm_auc))\n",
    "plt.plot(cnn_fpr, cnn_tpr, label = 'CNN, AUC=' + str(cnn_auc))\n",
    "plt.legend(loc = 4)"
   ]
  },
  {
   "cell_type": "markdown",
   "metadata": {},
   "source": [
    "#### After increase the ratio of malicious data over benign data, the LSTM model and the CNN model both perform very well on accuracy and AUC score. It means that these two model can correctly classify both benign web links and malicious ones when the two dataset have similar size."
   ]
  }
 ],
 "metadata": {
  "kernelspec": {
   "display_name": "Python 3",
   "language": "python",
   "name": "python3"
  },
  "language_info": {
   "codemirror_mode": {
    "name": "ipython",
    "version": 3
   },
   "file_extension": ".py",
   "mimetype": "text/x-python",
   "name": "python",
   "nbconvert_exporter": "python",
   "pygments_lexer": "ipython3",
   "version": "3.6.1"
  }
 },
 "nbformat": 4,
 "nbformat_minor": 2
}
